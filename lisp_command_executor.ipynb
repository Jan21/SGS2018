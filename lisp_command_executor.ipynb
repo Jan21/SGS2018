{
 "cells": [
  {
   "cell_type": "code",
   "execution_count": 1,
   "metadata": {
    "collapsed": true
   },
   "outputs": [
    {
     "name": "stdout",
     "output_type": "stream",
     "text": [
      "\n 0.2505\n 1.9590\n 2.2004\n 1.1304\n 1.8390\n 0.2067\n 1.6517\n 2.4584\n 1.5778\n 0.9157\n 1.6860\n 3.6263\n 2.4173\n 0.4019\n 1.0138\n 1.1759\n 1.7126\n 1.0095\n 0.6827\n 1.2790\n 0.3401\n 2.6334\n 1.2606\n 0.1562\n 0.4006\n 0.5417\n 2.6413\n 1.1303\n 1.3058\n 0.3902\n 1.5868\n 0.7150\n 1.0830\n 0.6536\n 0.8391\n 1.3041\n 0.9568\n 2.8462\n 0.4625\n 1.4236\n 0.7317\n 0.5478\n 0.4239\n 2.5140\n 0.5381\n 0.8855\n 1.3094\n 0.5426\n 2.0405\n 1.0843\n[torch.FloatTensor of size 50]\n\n\n 0.2505  0.4419  0.6265  ...   0.3888  0.6861  0.4541\n 0.6995  1.9590  2.0706  ...   0.9118  2.2422  1.7028\n 0.6848  2.3698  2.2004  ...   0.7890  2.3947  1.9616\n          ...             ⋱             ...          \n 0.2793  0.1255  0.4195  ...   0.5426  0.5837  0.3877\n 0.6280  1.8370  1.8379  ...   0.8099  2.0405  1.6243\n 0.5811  0.9148  1.2934  ...   0.9484  1.5268  1.0843\n[torch.FloatTensor of size 50x50]\n\n"
     ]
    }
   ],
   "source": [
    "import numpy as np\n",
    "import torch\n",
    "from torch.autograd import Variable\n",
    "\n",
    "arr_of_mats = []\n",
    "arr_of_diags = []\n",
    "\n",
    "dim = 50\n",
    "arr_of_role_vecs = [\"P1\",\"P2\",\"P3\"] # missing: create array of vectors of roles. The array should have 3 elements. Every element is a vector of dimension \"dim\"\n",
    "arr_of_atoms_for_args = [\"a\",\"b\",\"d\",\"e\",\"f\",\"g\"]\n",
    "arr_of_atoms_for_ops = [\"C\",\"R\"]\n",
    "\n",
    "\n",
    "\n",
    "\n",
    "def get_dict_of_rand_vecs_from_array(arr):\n",
    "    dict = {}\n",
    "    for i,a in enumerate(arr):\n",
    "        dict[a] = torch.rand(dim)\n",
    "\n",
    "    return dict\n",
    "\n",
    "dict_of_args_vectors = get_dict_of_rand_vecs_from_array(arr_of_atoms_for_args)\n",
    "dict_of_ops_vectors = get_dict_of_rand_vecs_from_array(arr_of_atoms_for_ops)\n",
    "dict_of_role_vectors = get_dict_of_rand_vecs_from_array(arr_of_role_vecs)\n",
    "\n",
    "dict_of_atom_vectors = {**dict_of_args_vectors,**dict_of_ops_vectors}\n",
    "\n",
    "\n",
    "def get_mats_from_arr(arr):\n",
    "    arr_of_mats = []\n",
    "    arr_of_diags = []\n",
    "    final_mat = torch.zeros(dim,dim) # missing: matrix of zeros of dimension dim x dim\n",
    "    for i,el in enumerate(arr):\n",
    "        vec_for_role = dict_of_role_vectors[arr_of_role_vecs[i]]\n",
    "\n",
    "        if isinstance(el, list): # missing: check if type of element is array\n",
    "            diags,mats = get_mats_from_arr(el)\n",
    "            arr_of_mats.append(mats)\n",
    "            arr_of_diags.append(diags)\n",
    "            vec_for_el = diags[0]\n",
    "        else: # it's atom\n",
    "            vec_for_el = dict_of_atom_vectors[el]\n",
    "        final_mat += torch.ger(vec_for_role, vec_for_el) # missing: outer product of role and element\n",
    "    diag_of_final_mat = torch.diag(final_mat) # missing: get diagonal of matrix\n",
    "    arr_of_mats.insert(0, final_mat) # prepend to the array\n",
    "    arr_of_diags.insert(0, diag_of_final_mat)\n",
    "    return arr_of_diags, arr_of_mats\n",
    "\n",
    "\n",
    "example = [\"C\",\"a\",[\"R\",[\"C\",\"b\",[\"R\",\"d\",\"e\"]],[\"C\",\"f\",\"g\"]]]\n",
    "\n",
    "arr_of_diags, arr_of_mats = get_mats_from_arr(example)\n",
    "\n",
    "print(arr_of_diags[0])\n",
    "print(arr_of_mats[0])\n"
   ]
  },
  {
   "cell_type": "code",
   "execution_count": 2,
   "metadata": {},
   "outputs": [
    {
     "data": {
      "text/plain": [
       "['C', 'a', 'R', 'C', 'b', 'R', 'd', 'e', 'C', 'f', 'g']"
      ]
     },
     "execution_count": 2,
     "metadata": {},
     "output_type": "execute_result"
    }
   ],
   "source": [
    "def simplify_array(arr):\n",
    "    simple_arr=[]\n",
    "    for a in arr:\n",
    "        if isinstance(a,list):\n",
    "            simple_arr += simplify_array(a)\n",
    "        else:\n",
    "            simple_arr.append(a)\n",
    "    return simple_arr\n",
    "\n",
    "test = simplify_array(arr_of_diags)\n",
    "test\n",
    "        "
   ]
  }
 ],
 "metadata": {
  "kernelspec": {
   "display_name": "Python 2",
   "language": "python",
   "name": "python2"
  },
  "language_info": {
   "codemirror_mode": {
    "name": "ipython",
    "version": 2
   },
   "file_extension": ".py",
   "mimetype": "text/x-python",
   "name": "python",
   "nbconvert_exporter": "python",
   "pygments_lexer": "ipython2",
   "version": "2.7.6"
  }
 },
 "nbformat": 4,
 "nbformat_minor": 0
}
