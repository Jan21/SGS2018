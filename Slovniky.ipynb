{
 "cells": [
  {
   "cell_type": "code",
   "execution_count": 21,
   "metadata": {},
   "outputs": [],
   "source": [
    "barva, tvar, velikost, material, poloha = [1,2,3,4,5], [1,2,3], [1,2], [1,2,3,4,5], [1,2,3,4]"
   ]
  },
  {
   "cell_type": "code",
   "execution_count": 22,
   "metadata": {},
   "outputs": [],
   "source": [
    "import numpy as np"
   ]
  },
  {
   "cell_type": "code",
   "execution_count": 23,
   "metadata": {},
   "outputs": [],
   "source": [
    "slovnik1 = {\"barva\" : np.random.choice(barva), \"tvar\" : np.random.choice(tvar), \"velikost\" : np.random.choice(velikost), \"material\" : np.random.choice(material), \"poloha\" : np.random.choice(poloha)}"
   ]
  },
  {
   "cell_type": "code",
   "execution_count": 24,
   "metadata": {},
   "outputs": [
    {
     "name": "stdout",
     "output_type": "stream",
     "text": [
      "{'barva': 3, 'tvar': 3, 'velikost': 1, 'material': 3, 'poloha': 2}\n"
     ]
    }
   ],
   "source": [
    "print(slovnik1)"
   ]
  },
  {
   "cell_type": "code",
   "execution_count": 25,
   "metadata": {},
   "outputs": [],
   "source": [
    "slovniky = []"
   ]
  },
  {
   "cell_type": "code",
   "execution_count": 26,
   "metadata": {},
   "outputs": [],
   "source": [
    "for x in range(0,3):\n",
    "    slovniky.append({\"barva\" : np.random.choice(barva), \"tvar\" : np.random.choice(tvar), \"velikost\" : np.random.choice(velikost), \"material\" : np.random.choice(material), \"poloha\" : np.random.choice(poloha)})\n",
    "    "
   ]
  },
  {
   "cell_type": "code",
   "execution_count": 34,
   "metadata": {},
   "outputs": [
    {
     "name": "stdout",
     "output_type": "stream",
     "text": [
      "[{'barva': 2, 'tvar': 2, 'velikost': 1, 'material': 3, 'poloha': 2}, {'barva': 5, 'tvar': 1, 'velikost': 1, 'material': 5, 'poloha': 3}, {'barva': 3, 'tvar': 2, 'velikost': 2, 'material': 3, 'poloha': 2}]\n"
     ]
    }
   ],
   "source": [
    "print(slovniky)"
   ]
  },
  {
   "cell_type": "code",
   "execution_count": 35,
   "metadata": {},
   "outputs": [],
   "source": [
    "L = [{\"barva\" : np.random.choice(barva), \"tvar\" : np.random.choice(tvar), \"velikost\" : np.random.choice(velikost), \"material\" : np.random.choice(material), \"poloha\" : np.random.choice(poloha)} for x in range(0,4)]"
   ]
  },
  {
   "cell_type": "code",
   "execution_count": 36,
   "metadata": {},
   "outputs": [
    {
     "name": "stdout",
     "output_type": "stream",
     "text": [
      "[{'barva': 4, 'tvar': 3, 'velikost': 1, 'material': 1, 'poloha': 3}, {'barva': 2, 'tvar': 3, 'velikost': 2, 'material': 2, 'poloha': 4}, {'barva': 2, 'tvar': 1, 'velikost': 2, 'material': 2, 'poloha': 4}, {'barva': 5, 'tvar': 1, 'velikost': 1, 'material': 2, 'poloha': 3}]\n"
     ]
    }
   ],
   "source": [
    "print(L)"
   ]
  },
  {
   "cell_type": "code",
   "execution_count": 37,
   "metadata": {},
   "outputs": [
    {
     "name": "stdout",
     "output_type": "stream",
     "text": [
      "4\n",
      "2\n",
      "2\n",
      "5\n"
     ]
    }
   ],
   "source": [
    "for x in range(len(L)): print (L[x][\"barva\"])"
   ]
  },
  {
   "cell_type": "code",
   "execution_count": null,
   "metadata": {},
   "outputs": [],
   "source": []
  },
  {
   "cell_type": "code",
   "execution_count": null,
   "metadata": {},
   "outputs": [],
   "source": []
  }
 ],
 "metadata": {
  "kernelspec": {
   "display_name": "Python 3",
   "language": "python",
   "name": "python3"
  },
  "language_info": {
   "codemirror_mode": {
    "name": "ipython",
    "version": 3
   },
   "file_extension": ".py",
   "mimetype": "text/x-python",
   "name": "python",
   "nbconvert_exporter": "python",
   "pygments_lexer": "ipython3",
   "version": "3.6.4"
  }
 },
 "nbformat": 4,
 "nbformat_minor": 2
}
